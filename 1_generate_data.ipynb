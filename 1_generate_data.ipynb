{
 "cells": [
  {
   "cell_type": "code",
   "execution_count": 1,
   "id": "6549948f-a57e-4ed7-9180-cc63ed54bfbb",
   "metadata": {},
   "outputs": [
    {
     "name": "stdout",
     "output_type": "stream",
     "text": [
      "✅ Dataset saved as multi_cvd_dataset.csv\n"
     ]
    }
   ],
   "source": [
    "import pandas as pd\n",
    "import numpy as np\n",
    "\n",
    "np.random.seed(42)\n",
    "n_samples = 500\n",
    "\n",
    "# Predictors\n",
    "age = np.random.randint(30, 80, size=n_samples)\n",
    "bmi = np.random.normal(27, 4, size=n_samples)\n",
    "glucose = np.random.normal(100, 15, size=n_samples)\n",
    "hdl_chol = np.random.normal(55, 10, size=n_samples)\n",
    "ldl_chol = np.random.normal(130, 30, size=n_samples)\n",
    "triglycerides = np.random.normal(150, 50, size=n_samples)\n",
    "systolic_bp = np.random.normal(130, 15, size=n_samples)\n",
    "diastolic_bp = np.random.normal(85, 10, size=n_samples)\n",
    "heart_rate = np.random.normal(75, 10, size=n_samples)\n",
    "\n",
    "alcohol_use = np.random.binomial(1, 0.3, size=n_samples)\n",
    "smoking_status = np.random.binomial(1, 0.25, size=n_samples)\n",
    "physical_activity = np.random.binomial(1, 0.5, size=n_samples)\n",
    "diet_score = np.random.randint(1, 11, size=n_samples)\n",
    "sleep_hours = np.random.normal(6.5, 1.5, size=n_samples)\n",
    "stress_score = np.random.randint(1, 11, size=n_samples)\n",
    "\n",
    "family_history_diabetes = np.random.binomial(1, 0.3, size=n_samples)\n",
    "family_history_stroke = np.random.binomial(1, 0.2, size=n_samples)\n",
    "family_history_heart_disease = np.random.binomial(1, 0.25, size=n_samples)\n",
    "\n",
    "# Logistic models for outcomes\n",
    "logit_stroke = (-10 + 0.04*age + 0.05*bmi + 0.03*glucose + 0.7*smoking_status +\n",
    "                0.8*family_history_stroke - 0.4*physical_activity + 0.02*systolic_bp +\n",
    "                0.05*stress_score)\n",
    "\n",
    "logit_heart_disease = (-9 + 0.05*age + 0.08*bmi + 0.02*ldl_chol - 0.04*hdl_chol +\n",
    "                       0.9*family_history_heart_disease + 0.6*alcohol_use +\n",
    "                       0.9*smoking_status + 0.01*triglycerides - 0.3*diet_score)\n",
    "\n",
    "logit_heart_failure = (-8 + 0.06*age + 0.1*bmi + 0.03*glucose + 0.8*smoking_status +\n",
    "                       0.7*family_history_heart_disease + 0.5*stress_score +\n",
    "                       0.01*heart_rate + 0.02*systolic_bp)\n",
    "\n",
    "logit_htn = (-9 + 0.06*age + 0.1*bmi + 0.03*systolic_bp + 0.9*family_history_heart_disease +\n",
    "             0.6*stress_score - 0.4*physical_activity)\n",
    "\n",
    "logit_afib = (-11 + 0.04*age + 0.03*heart_rate + 0.7*smoking_status + 0.6*stress_score +\n",
    "              0.9*family_history_heart_disease)\n",
    "\n",
    "logit_pad = (-10 + 0.05*age + 0.03*ldl_chol + 0.9*smoking_status + 0.5*stress_score +\n",
    "             0.8*family_history_heart_disease - 0.3*physical_activity)\n",
    "\n",
    "# Generate risk outcomes\n",
    "df = pd.DataFrame({\n",
    "    'age': age, 'bmi': bmi, 'glucose': glucose, 'hdl_chol': hdl_chol,\n",
    "    'ldl_chol': ldl_chol, 'triglycerides': triglycerides, 'systolic_bp': systolic_bp,\n",
    "    'diastolic_bp': diastolic_bp, 'heart_rate': heart_rate, 'alcohol_use': alcohol_use,\n",
    "    'smoking_status': smoking_status, 'physical_activity': physical_activity,\n",
    "    'diet_score': diet_score, 'sleep_hours': sleep_hours, 'stress_score': stress_score,\n",
    "    'family_history_diabetes': family_history_diabetes,\n",
    "    'family_history_stroke': family_history_stroke,\n",
    "    'family_history_heart_disease': family_history_heart_disease,\n",
    "    'risk_stroke': np.random.binomial(1, 1/(1 + np.exp(-logit_stroke))),\n",
    "    'risk_heart_disease': np.random.binomial(1, 1/(1 + np.exp(-logit_heart_disease))),\n",
    "    'risk_heart_failure': np.random.binomial(1, 1/(1 + np.exp(-logit_heart_failure))),\n",
    "    'risk_hypertension': np.random.binomial(1, 1/(1 + np.exp(-logit_htn))),\n",
    "    'risk_afib': np.random.binomial(1, 1/(1 + np.exp(-logit_afib))),\n",
    "    'risk_pad': np.random.binomial(1, 1/(1 + np.exp(-logit_pad)))\n",
    "})\n",
    "\n",
    "df.to_csv(\"multi_cvd_dataset.csv\", index=False)\n",
    "print(\"✅ Dataset saved as multi_cvd_dataset.csv\")\n"
   ]
  },
  {
   "cell_type": "code",
   "execution_count": null,
   "id": "4f65d068-be06-4519-bb6e-dfe465a927b1",
   "metadata": {},
   "outputs": [],
   "source": []
  }
 ],
 "metadata": {
  "kernelspec": {
   "display_name": "Python 3 (ipykernel)",
   "language": "python",
   "name": "python3"
  },
  "language_info": {
   "codemirror_mode": {
    "name": "ipython",
    "version": 3
   },
   "file_extension": ".py",
   "mimetype": "text/x-python",
   "name": "python",
   "nbconvert_exporter": "python",
   "pygments_lexer": "ipython3",
   "version": "3.12.8"
  }
 },
 "nbformat": 4,
 "nbformat_minor": 5
}
